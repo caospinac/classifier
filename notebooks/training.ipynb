{
 "cells": [
  {
   "cell_type": "markdown",
   "id": "6e971bd7",
   "metadata": {},
   "source": [
    "# NBC training"
   ]
  },
  {
   "cell_type": "markdown",
   "id": "83e95797",
   "metadata": {},
   "source": [
    "#### Reading of files"
   ]
  },
  {
   "cell_type": "code",
   "execution_count": 1,
   "id": "e9a5c9cf",
   "metadata": {},
   "outputs": [],
   "source": [
    "from glob import glob\n",
    "import csv"
   ]
  },
  {
   "cell_type": "code",
   "execution_count": 2,
   "id": "a06e4aff",
   "metadata": {},
   "outputs": [],
   "source": [
    "data = []\n",
    "values = {'neg', 'pos'}"
   ]
  },
  {
   "cell_type": "code",
   "execution_count": 3,
   "id": "cc2b1b03",
   "metadata": {},
   "outputs": [],
   "source": [
    "filenames = glob('/training_data/*.csv')\n",
    "for file in filenames:\n",
    "    with open(file) as f:\n",
    "        file_reader = csv.reader(f)\n",
    "        next(file_reader, None)\n",
    "        for row in file_reader:\n",
    "            if row[0] in values:\n",
    "                data.append(row)"
   ]
  },
  {
   "cell_type": "code",
   "execution_count": 4,
   "id": "19a6f925",
   "metadata": {},
   "outputs": [
    {
     "data": {
      "text/plain": [
       "16194"
      ]
     },
     "execution_count": 4,
     "metadata": {},
     "output_type": "execute_result"
    }
   ],
   "source": [
    "len(data)"
   ]
  },
  {
   "cell_type": "markdown",
   "id": "4060cfe0",
   "metadata": {},
   "source": [
    "### Building the vocabulary"
   ]
  },
  {
   "cell_type": "code",
   "execution_count": 5,
   "id": "03e4a185",
   "metadata": {},
   "outputs": [],
   "source": [
    "import re\n",
    "from string import punctuation\n",
    "from itertools import chain\n",
    "from nltk.corpus import stopwords\n",
    "from nltk.stem import (LancasterStemmer, PorterStemmer, SnowballStemmer,\n",
    "                       WordNetLemmatizer)"
   ]
  },
  {
   "cell_type": "markdown",
   "id": "bdaa5551",
   "metadata": {},
   "source": [
    "##### Set stemming algorithm"
   ]
  },
  {
   "cell_type": "code",
   "execution_count": 7,
   "id": "61f0391c",
   "metadata": {},
   "outputs": [],
   "source": [
    "stemmer_name = 'snowball'\n",
    "stem = lambda x: x\n",
    "if stemmer_name == 'porter':\n",
    "    stemmer = PorterStemmer()\n",
    "    stem = stemmer.stem\n",
    "elif stemmer_name == 'lancaster':\n",
    "    stemmer = LancasterStemmer()\n",
    "    stem = stemmer.stem\n",
    "elif stemmer_name == 'snowball':\n",
    "    stemmer = SnowballStemmer('english')\n",
    "    stem = stemmer.stem\n",
    "elif stemmer_name == 'lemmatizer':\n",
    "    stemmer = WordNetLemmatizer()\n",
    "    stem = lambda w: stemmer.lemmatize(w, pos='v')"
   ]
  },
  {
   "cell_type": "markdown",
   "id": "1fc411db",
   "metadata": {},
   "source": [
    "##### Set of words to exclude"
   ]
  },
  {
   "cell_type": "code",
   "execution_count": 8,
   "id": "e86cc2b4",
   "metadata": {},
   "outputs": [],
   "source": [
    "noisywords = set(\n",
    "    stopwords.words(\"english\") +\n",
    "    list(punctuation) +\n",
    "    [\"__mention__\", \"__link__\"]\n",
    ")"
   ]
  },
  {
   "cell_type": "markdown",
   "id": "6834bc4f",
   "metadata": {},
   "source": [
    "##### Map of data by value"
   ]
  },
  {
   "cell_type": "code",
   "execution_count": 9,
   "id": "eda84458",
   "metadata": {},
   "outputs": [],
   "source": [
    "training_data = {}\n",
    "for vj in values:\n",
    "    filtered_data = filter(lambda x: x[0] == vj, data)\n",
    "    training_data[vj] = list(map(lambda x: x[1], filtered_data))\n",
    "\n",
    "all_training_data = list(chain(*training_data.values()))"
   ]
  },
  {
   "cell_type": "markdown",
   "id": "45e1008b",
   "metadata": {},
   "source": [
    "##### Vocabulary"
   ]
  },
  {
   "cell_type": "code",
   "execution_count": 27,
   "id": "5cf45081",
   "metadata": {},
   "outputs": [],
   "source": [
    "def get_document_words(*documents, unique=True):\n",
    "    text = ' '.join(documents).lower()\n",
    "    text = re.sub(r'((www\\.[^\\s]+)|(https?://[^\\s]+))', '__link__', text)\n",
    "    text = re.sub(r'@[^\\s]+', '__mention__', text)\n",
    "    text = re.sub(r'#([^\\s]+)', r'\\1', text)\n",
    "    words = re.findall(r'[^\\d\\W]{2,}', text)\n",
    "    words = filter(lambda w: w not in noisywords, words)\n",
    "    words = map(stem, words)\n",
    "\n",
    "    return list(set(words)) if unique else list(words)\n",
    "\n",
    "vocabulary = get_document_words(*all_training_data)"
   ]
  },
  {
   "cell_type": "code",
   "execution_count": 29,
   "id": "48d66e62",
   "metadata": {},
   "outputs": [
    {
     "data": {
      "text/plain": [
       "'friend'"
      ]
     },
     "execution_count": 29,
     "metadata": {},
     "output_type": "execute_result"
    }
   ],
   "source": [
    "# Just testing the stemmer\n",
    "stem('friendly')"
   ]
  },
  {
   "cell_type": "markdown",
   "id": "aea1df9d",
   "metadata": {},
   "source": [
    "## Training algorithm"
   ]
  },
  {
   "cell_type": "code",
   "execution_count": 31,
   "id": "c233fef8",
   "metadata": {},
   "outputs": [],
   "source": [
    "from math import sqrt"
   ]
  },
  {
   "cell_type": "code",
   "execution_count": 15,
   "id": "c7e852a6",
   "metadata": {
    "scrolled": true
   },
   "outputs": [],
   "source": [
    "P = {'_': dict.fromkeys(values)}\n",
    "P.update(dict((w, {}) for w in vocabulary))"
   ]
  },
  {
   "cell_type": "code",
   "execution_count": 32,
   "id": "3bcce9a4",
   "metadata": {},
   "outputs": [],
   "source": [
    "for vj in values:\n",
    "    docs_j = training_data[vj]\n",
    "    P['_'][vj] = len(docs_j) / len(all_training_data)\n",
    "    all_text_j = ' '.join(docs_j)\n",
    "    words_j = get_document_words(all_text_j, unique=False)\n",
    "    n = len(words_j)\n",
    "    for w in vocabulary:\n",
    "        w_occurrences = words_j.count(w)\n",
    "        P[w][vj] = sqrt(\n",
    "            (w_occurrences + 1) / (n + len(vocabulary))\n",
    "        )"
   ]
  },
  {
   "cell_type": "markdown",
   "id": "476c4417",
   "metadata": {},
   "source": [
    "## Classification logic\n",
    "Test in memory"
   ]
  },
  {
   "cell_type": "code",
   "execution_count": 43,
   "id": "43623b3b",
   "metadata": {},
   "outputs": [],
   "source": [
    "in_vocabulary = lambda w: w in vocabulary\n",
    "\n",
    "def classify_nbc_text(doc):\n",
    "    if not doc:\n",
    "        raise \"Error: The document is not valid.\"\n",
    "\n",
    "    p = P['_'].copy()\n",
    "    for w in filter(in_vocabulary, get_document_words(doc)):\n",
    "        for vj in values:\n",
    "            p[vj] *= P[w][vj]\n",
    "\n",
    "    return max(p, key=p.get), p"
   ]
  },
  {
   "cell_type": "markdown",
   "id": "91b4a32f",
   "metadata": {},
   "source": [
    "### Testing"
   ]
  },
  {
   "cell_type": "code",
   "execution_count": 74,
   "id": "5d851f2c",
   "metadata": {},
   "outputs": [],
   "source": [
    "assert classify_nbc_text('friend') == classify_nbc_text('friendly')\n",
    "assert classify_nbc_text('succcess') == classify_nbc_text('succcessful')\n",
    "assert classify_nbc_text('danger') == classify_nbc_text('dangerous')"
   ]
  },
  {
   "cell_type": "markdown",
   "id": "5ca364a5",
   "metadata": {},
   "source": [
    "## Elasticsearch"
   ]
  },
  {
   "cell_type": "code",
   "execution_count": 6,
   "id": "cfad8cdc",
   "metadata": {},
   "outputs": [],
   "source": [
    "from elasticsearch import Elasticsearch"
   ]
  },
  {
   "cell_type": "code",
   "execution_count": 8,
   "id": "ee49989b",
   "metadata": {},
   "outputs": [],
   "source": [
    "es = Elasticsearch(hosts='es')"
   ]
  },
  {
   "cell_type": "markdown",
   "id": "7a4f39d2",
   "metadata": {},
   "source": [
    "### Storage/Indexing"
   ]
  },
  {
   "cell_type": "code",
   "execution_count": 94,
   "id": "b62a771d",
   "metadata": {},
   "outputs": [],
   "source": [
    "base_doc = {\n",
    "    'stemmer_name': stemmer_name,\n",
    "}\n",
    "for word, p in P.items():\n",
    "    total_factor = sum(v for k, v in p.items() if k in values)\n",
    "    factors = {}\n",
    "    for vj in values:\n",
    "        factors[vj] = p[vj] / total_factor\n",
    "    \n",
    "    doc = {\n",
    "        **base_doc,\n",
    "        'value': word,\n",
    "        'p': factors,\n",
    "    }\n",
    "    es.index(index='words', id=f'{stemmer_name}_{word}', body=doc)"
   ]
  },
  {
   "cell_type": "markdown",
   "id": "ac2a9ddb",
   "metadata": {},
   "source": [
    "### Querying"
   ]
  },
  {
   "cell_type": "code",
   "execution_count": 17,
   "id": "37afb297",
   "metadata": {},
   "outputs": [],
   "source": [
    "payload = {\n",
    "    'query': {\n",
    "        'match': {\n",
    "            'value.keyword': 'macgraw'\n",
    "        }\n",
    "    }\n",
    "}\n",
    "res = es.search(index='words', body=payload)"
   ]
  },
  {
   "cell_type": "code",
   "execution_count": 18,
   "id": "53ef15e6",
   "metadata": {},
   "outputs": [
    {
     "data": {
      "text/plain": [
       "{'took': 2,\n",
       " 'timed_out': False,\n",
       " '_shards': {'total': 1, 'successful': 1, 'skipped': 0, 'failed': 0},\n",
       " 'hits': {'total': {'value': 1, 'relation': 'eq'},\n",
       "  'max_score': 9.284446,\n",
       "  'hits': [{'_index': 'words',\n",
       "    '_type': '_doc',\n",
       "    '_id': 'snowball_macgraw',\n",
       "    '_score': 9.284446,\n",
       "    '_source': {'stemmer_name': 'snowball',\n",
       "     'value': 'macgraw',\n",
       "     'p': {'pos': 0.40242084643626364, 'neg': 0.5975791535637365}}}]}}"
      ]
     },
     "execution_count": 18,
     "metadata": {},
     "output_type": "execute_result"
    }
   ],
   "source": [
    "res"
   ]
  },
  {
   "cell_type": "markdown",
   "id": "de3d9f9c",
   "metadata": {},
   "source": [
    "## Classification\n",
    "Using ES"
   ]
  },
  {
   "cell_type": "code",
   "execution_count": null,
   "id": "66adb40f",
   "metadata": {},
   "outputs": [],
   "source": []
  }
 ],
 "metadata": {
  "kernelspec": {
   "display_name": "Python 3 (ipykernel)",
   "language": "python",
   "name": "python3"
  },
  "language_info": {
   "codemirror_mode": {
    "name": "ipython",
    "version": 3
   },
   "file_extension": ".py",
   "mimetype": "text/x-python",
   "name": "python",
   "nbconvert_exporter": "python",
   "pygments_lexer": "ipython3",
   "version": "3.9.6"
  }
 },
 "nbformat": 4,
 "nbformat_minor": 5
}
